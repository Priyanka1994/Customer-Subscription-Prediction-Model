{
  "nbformat": 4,
  "nbformat_minor": 0,
  "metadata": {
    "colab": {
      "name": "eda_model.ipynb",
      "provenance": []
    },
    "kernelspec": {
      "name": "python3",
      "display_name": "Python 3"
    }
  },
  "cells": [
    {
      "cell_type": "code",
      "metadata": {
        "id": "vtgheyQPDqIt"
      },
      "source": [
        "#import important libraries\n",
        "import pandas as pd\n",
        "import numpy as np\n",
        "import seaborn as sns\n",
        "import matplotlib.pyplot as plt"
      ],
      "execution_count": 1,
      "outputs": []
    },
    {
      "cell_type": "code",
      "metadata": {
        "id": "e1lCxM0HD6RC",
        "outputId": "b656c165-bd09-47bc-d62e-438e391f12b9",
        "colab": {
          "base_uri": "https://localhost:8080/",
          "height": 309
        }
      },
      "source": [
        "#import user transaction data\n",
        "appdata = pd.read_csv(r'/content/appdata10.csv')\n",
        "appdata.head()"
      ],
      "execution_count": 2,
      "outputs": [
        {
          "output_type": "execute_result",
          "data": {
            "text/html": [
              "<div>\n",
              "<style scoped>\n",
              "    .dataframe tbody tr th:only-of-type {\n",
              "        vertical-align: middle;\n",
              "    }\n",
              "\n",
              "    .dataframe tbody tr th {\n",
              "        vertical-align: top;\n",
              "    }\n",
              "\n",
              "    .dataframe thead th {\n",
              "        text-align: right;\n",
              "    }\n",
              "</style>\n",
              "<table border=\"1\" class=\"dataframe\">\n",
              "  <thead>\n",
              "    <tr style=\"text-align: right;\">\n",
              "      <th></th>\n",
              "      <th>user</th>\n",
              "      <th>first_open</th>\n",
              "      <th>dayofweek</th>\n",
              "      <th>hour</th>\n",
              "      <th>age</th>\n",
              "      <th>screen_list</th>\n",
              "      <th>numscreens</th>\n",
              "      <th>minigame</th>\n",
              "      <th>used_premium_feature</th>\n",
              "      <th>enrolled</th>\n",
              "      <th>enrolled_date</th>\n",
              "      <th>liked</th>\n",
              "    </tr>\n",
              "  </thead>\n",
              "  <tbody>\n",
              "    <tr>\n",
              "      <th>0</th>\n",
              "      <td>235136</td>\n",
              "      <td>2012-12-27 02:14:51.273</td>\n",
              "      <td>3</td>\n",
              "      <td>02:00:00</td>\n",
              "      <td>23</td>\n",
              "      <td>idscreen,joinscreen,Cycle,product_review,ScanP...</td>\n",
              "      <td>15</td>\n",
              "      <td>0</td>\n",
              "      <td>0</td>\n",
              "      <td>0</td>\n",
              "      <td>NaN</td>\n",
              "      <td>0</td>\n",
              "    </tr>\n",
              "    <tr>\n",
              "      <th>1</th>\n",
              "      <td>333588</td>\n",
              "      <td>2012-12-02 01:16:00.905</td>\n",
              "      <td>6</td>\n",
              "      <td>01:00:00</td>\n",
              "      <td>24</td>\n",
              "      <td>joinscreen,product_review,product_review2,Scan...</td>\n",
              "      <td>13</td>\n",
              "      <td>0</td>\n",
              "      <td>0</td>\n",
              "      <td>0</td>\n",
              "      <td>NaN</td>\n",
              "      <td>0</td>\n",
              "    </tr>\n",
              "    <tr>\n",
              "      <th>2</th>\n",
              "      <td>254414</td>\n",
              "      <td>2013-03-19 19:19:09.157</td>\n",
              "      <td>1</td>\n",
              "      <td>19:00:00</td>\n",
              "      <td>23</td>\n",
              "      <td>Splash,Cycle,Loan</td>\n",
              "      <td>3</td>\n",
              "      <td>0</td>\n",
              "      <td>1</td>\n",
              "      <td>0</td>\n",
              "      <td>NaN</td>\n",
              "      <td>1</td>\n",
              "    </tr>\n",
              "    <tr>\n",
              "      <th>3</th>\n",
              "      <td>234192</td>\n",
              "      <td>2013-07-05 16:08:46.354</td>\n",
              "      <td>4</td>\n",
              "      <td>16:00:00</td>\n",
              "      <td>28</td>\n",
              "      <td>product_review,Home,product_review,Loan3,Finan...</td>\n",
              "      <td>40</td>\n",
              "      <td>0</td>\n",
              "      <td>0</td>\n",
              "      <td>1</td>\n",
              "      <td>2013-07-05 16:11:49.513</td>\n",
              "      <td>0</td>\n",
              "    </tr>\n",
              "    <tr>\n",
              "      <th>4</th>\n",
              "      <td>51549</td>\n",
              "      <td>2013-02-26 18:50:48.661</td>\n",
              "      <td>1</td>\n",
              "      <td>18:00:00</td>\n",
              "      <td>31</td>\n",
              "      <td>idscreen,joinscreen,Cycle,Credit3Container,Sca...</td>\n",
              "      <td>32</td>\n",
              "      <td>0</td>\n",
              "      <td>0</td>\n",
              "      <td>1</td>\n",
              "      <td>2013-02-26 18:56:37.841</td>\n",
              "      <td>1</td>\n",
              "    </tr>\n",
              "  </tbody>\n",
              "</table>\n",
              "</div>"
            ],
            "text/plain": [
              "     user               first_open  ...            enrolled_date liked\n",
              "0  235136  2012-12-27 02:14:51.273  ...                      NaN     0\n",
              "1  333588  2012-12-02 01:16:00.905  ...                      NaN     0\n",
              "2  254414  2013-03-19 19:19:09.157  ...                      NaN     1\n",
              "3  234192  2013-07-05 16:08:46.354  ...  2013-07-05 16:11:49.513     0\n",
              "4   51549  2013-02-26 18:50:48.661  ...  2013-02-26 18:56:37.841     1\n",
              "\n",
              "[5 rows x 12 columns]"
            ]
          },
          "metadata": {
            "tags": []
          },
          "execution_count": 2
        }
      ]
    },
    {
      "cell_type": "markdown",
      "metadata": {
        "id": "fddyrujOzyK6"
      },
      "source": [
        "#### DATA UNDERSTANDING"
      ]
    },
    {
      "cell_type": "code",
      "metadata": {
        "id": "gPKw56ZAEuHi",
        "outputId": "ebdaaab0-42a2-4524-fc2f-5862d4429213",
        "colab": {
          "base_uri": "https://localhost:8080/"
        }
      },
      "source": [
        "appdata.shape"
      ],
      "execution_count": 3,
      "outputs": [
        {
          "output_type": "execute_result",
          "data": {
            "text/plain": [
              "(50000, 12)"
            ]
          },
          "metadata": {
            "tags": []
          },
          "execution_count": 3
        }
      ]
    },
    {
      "cell_type": "code",
      "metadata": {
        "id": "3fJVuumHFSL5",
        "outputId": "a9866792-96ad-4255-ef67-d492db533ba8",
        "colab": {
          "base_uri": "https://localhost:8080/"
        }
      },
      "source": [
        "appdata.info()"
      ],
      "execution_count": 4,
      "outputs": [
        {
          "output_type": "stream",
          "text": [
            "<class 'pandas.core.frame.DataFrame'>\n",
            "RangeIndex: 50000 entries, 0 to 49999\n",
            "Data columns (total 12 columns):\n",
            " #   Column                Non-Null Count  Dtype \n",
            "---  ------                --------------  ----- \n",
            " 0   user                  50000 non-null  int64 \n",
            " 1   first_open            50000 non-null  object\n",
            " 2   dayofweek             50000 non-null  int64 \n",
            " 3   hour                  50000 non-null  object\n",
            " 4   age                   50000 non-null  int64 \n",
            " 5   screen_list           50000 non-null  object\n",
            " 6   numscreens            50000 non-null  int64 \n",
            " 7   minigame              50000 non-null  int64 \n",
            " 8   used_premium_feature  50000 non-null  int64 \n",
            " 9   enrolled              50000 non-null  int64 \n",
            " 10  enrolled_date         31074 non-null  object\n",
            " 11  liked                 50000 non-null  int64 \n",
            "dtypes: int64(8), object(4)\n",
            "memory usage: 4.6+ MB\n"
          ],
          "name": "stdout"
        }
      ]
    },
    {
      "cell_type": "code",
      "metadata": {
        "id": "1U5lU9juFrVh",
        "outputId": "45193216-d324-47de-e4af-f2723e684c4c",
        "colab": {
          "base_uri": "https://localhost:8080/",
          "height": 204
        }
      },
      "source": [
        "#screens master data\n",
        "top_screens = pd.read_csv(r'/content/top_screens.csv')\n",
        "top_screens.head()"
      ],
      "execution_count": 5,
      "outputs": [
        {
          "output_type": "execute_result",
          "data": {
            "text/html": [
              "<div>\n",
              "<style scoped>\n",
              "    .dataframe tbody tr th:only-of-type {\n",
              "        vertical-align: middle;\n",
              "    }\n",
              "\n",
              "    .dataframe tbody tr th {\n",
              "        vertical-align: top;\n",
              "    }\n",
              "\n",
              "    .dataframe thead th {\n",
              "        text-align: right;\n",
              "    }\n",
              "</style>\n",
              "<table border=\"1\" class=\"dataframe\">\n",
              "  <thead>\n",
              "    <tr style=\"text-align: right;\">\n",
              "      <th></th>\n",
              "      <th>Unnamed: 0</th>\n",
              "      <th>top_screens</th>\n",
              "    </tr>\n",
              "  </thead>\n",
              "  <tbody>\n",
              "    <tr>\n",
              "      <th>0</th>\n",
              "      <td>0</td>\n",
              "      <td>Loan2</td>\n",
              "    </tr>\n",
              "    <tr>\n",
              "      <th>1</th>\n",
              "      <td>1</td>\n",
              "      <td>location</td>\n",
              "    </tr>\n",
              "    <tr>\n",
              "      <th>2</th>\n",
              "      <td>2</td>\n",
              "      <td>Institutions</td>\n",
              "    </tr>\n",
              "    <tr>\n",
              "      <th>3</th>\n",
              "      <td>3</td>\n",
              "      <td>Credit3Container</td>\n",
              "    </tr>\n",
              "    <tr>\n",
              "      <th>4</th>\n",
              "      <td>4</td>\n",
              "      <td>VerifyPhone</td>\n",
              "    </tr>\n",
              "  </tbody>\n",
              "</table>\n",
              "</div>"
            ],
            "text/plain": [
              "   Unnamed: 0       top_screens\n",
              "0           0             Loan2\n",
              "1           1          location\n",
              "2           2      Institutions\n",
              "3           3  Credit3Container\n",
              "4           4       VerifyPhone"
            ]
          },
          "metadata": {
            "tags": []
          },
          "execution_count": 5
        }
      ]
    },
    {
      "cell_type": "code",
      "metadata": {
        "id": "BaH7DN8TGM6p",
        "outputId": "4e753b89-856d-47a4-eace-10425f5f1877",
        "colab": {
          "base_uri": "https://localhost:8080/"
        }
      },
      "source": [
        "top_screens.shape"
      ],
      "execution_count": 6,
      "outputs": [
        {
          "output_type": "execute_result",
          "data": {
            "text/plain": [
              "(58, 2)"
            ]
          },
          "metadata": {
            "tags": []
          },
          "execution_count": 6
        }
      ]
    },
    {
      "cell_type": "markdown",
      "metadata": {
        "id": "ixz5oNZ-0eIt"
      },
      "source": [
        "#### EXPLORATORY DATA ANALYSIS"
      ]
    },
    {
      "cell_type": "code",
      "metadata": {
        "id": "BWOZgw8TAjJ1",
        "outputId": "a40d1ab1-fe06-43f4-872b-a5141bfc6a66",
        "colab": {
          "base_uri": "https://localhost:8080/"
        }
      },
      "source": [
        "appdata.enrolled.value_counts()"
      ],
      "execution_count": 7,
      "outputs": [
        {
          "output_type": "execute_result",
          "data": {
            "text/plain": [
              "1    31074\n",
              "0    18926\n",
              "Name: enrolled, dtype: int64"
            ]
          },
          "metadata": {
            "tags": []
          },
          "execution_count": 7
        }
      ]
    },
    {
      "cell_type": "code",
      "metadata": {
        "id": "GXqzzSzHLh1c",
        "outputId": "68e98af8-314a-4a6b-d69e-5cd690dc807d",
        "colab": {
          "base_uri": "https://localhost:8080/"
        }
      },
      "source": [
        "appdata.dayofweek.value_counts()"
      ],
      "execution_count": 8,
      "outputs": [
        {
          "output_type": "execute_result",
          "data": {
            "text/plain": [
              "4    7531\n",
              "0    7515\n",
              "5    7423\n",
              "6    7418\n",
              "1    7139\n",
              "3    6659\n",
              "2    6315\n",
              "Name: dayofweek, dtype: int64"
            ]
          },
          "metadata": {
            "tags": []
          },
          "execution_count": 8
        }
      ]
    },
    {
      "cell_type": "code",
      "metadata": {
        "id": "IbFtJ9JjL0p6",
        "outputId": "14650291-19d6-4cf1-e3af-b5310d00a13c",
        "colab": {
          "base_uri": "https://localhost:8080/",
          "height": 297
        }
      },
      "source": [
        "# Assumption : People are more likely to enroll on weekends\n",
        "pd.crosstab(appdata.dayofweek,appdata.enrolled).apply(lambda r : r/r.sum(), axis = 1)"
      ],
      "execution_count": 9,
      "outputs": [
        {
          "output_type": "execute_result",
          "data": {
            "text/html": [
              "<div>\n",
              "<style scoped>\n",
              "    .dataframe tbody tr th:only-of-type {\n",
              "        vertical-align: middle;\n",
              "    }\n",
              "\n",
              "    .dataframe tbody tr th {\n",
              "        vertical-align: top;\n",
              "    }\n",
              "\n",
              "    .dataframe thead th {\n",
              "        text-align: right;\n",
              "    }\n",
              "</style>\n",
              "<table border=\"1\" class=\"dataframe\">\n",
              "  <thead>\n",
              "    <tr style=\"text-align: right;\">\n",
              "      <th>enrolled</th>\n",
              "      <th>0</th>\n",
              "      <th>1</th>\n",
              "    </tr>\n",
              "    <tr>\n",
              "      <th>dayofweek</th>\n",
              "      <th></th>\n",
              "      <th></th>\n",
              "    </tr>\n",
              "  </thead>\n",
              "  <tbody>\n",
              "    <tr>\n",
              "      <th>0</th>\n",
              "      <td>0.387092</td>\n",
              "      <td>0.612908</td>\n",
              "    </tr>\n",
              "    <tr>\n",
              "      <th>1</th>\n",
              "      <td>0.395574</td>\n",
              "      <td>0.604426</td>\n",
              "    </tr>\n",
              "    <tr>\n",
              "      <th>2</th>\n",
              "      <td>0.371496</td>\n",
              "      <td>0.628504</td>\n",
              "    </tr>\n",
              "    <tr>\n",
              "      <th>3</th>\n",
              "      <td>0.360565</td>\n",
              "      <td>0.639435</td>\n",
              "    </tr>\n",
              "    <tr>\n",
              "      <th>4</th>\n",
              "      <td>0.389855</td>\n",
              "      <td>0.610145</td>\n",
              "    </tr>\n",
              "    <tr>\n",
              "      <th>5</th>\n",
              "      <td>0.368854</td>\n",
              "      <td>0.631146</td>\n",
              "    </tr>\n",
              "    <tr>\n",
              "      <th>6</th>\n",
              "      <td>0.373686</td>\n",
              "      <td>0.626314</td>\n",
              "    </tr>\n",
              "  </tbody>\n",
              "</table>\n",
              "</div>"
            ],
            "text/plain": [
              "enrolled          0         1\n",
              "dayofweek                    \n",
              "0          0.387092  0.612908\n",
              "1          0.395574  0.604426\n",
              "2          0.371496  0.628504\n",
              "3          0.360565  0.639435\n",
              "4          0.389855  0.610145\n",
              "5          0.368854  0.631146\n",
              "6          0.373686  0.626314"
            ]
          },
          "metadata": {
            "tags": []
          },
          "execution_count": 9
        }
      ]
    },
    {
      "cell_type": "code",
      "metadata": {
        "id": "zXIwruc4Ixv0",
        "outputId": "515d4728-a1b2-4f0a-ad08-30fe245b5393",
        "colab": {
          "base_uri": "https://localhost:8080/",
          "height": 296
        }
      },
      "source": [
        "sns.countplot(x = appdata.dayofweek, data = appdata )\n",
        "# Wrong assumption\n",
        "# Wednesdays seems to have highest conversion rate\n",
        "# Thrusdays have highest interaction"
      ],
      "execution_count": 10,
      "outputs": [
        {
          "output_type": "execute_result",
          "data": {
            "text/plain": [
              "<matplotlib.axes._subplots.AxesSubplot at 0x7f1323786c50>"
            ]
          },
          "metadata": {
            "tags": []
          },
          "execution_count": 10
        },
        {
          "output_type": "display_data",
          "data": {
            "image/png": "[encoded data removed]",
            "text/plain": [
              "<Figure size 432x288 with 1 Axes>"
            ]
          },
          "metadata": {
            "tags": [],
            "needs_background": "light"
          }
        }
      ]
    },
    {
      "cell_type": "code",
      "metadata": {
        "id": "yh2GHTRVLOAE"
      },
      "source": [
        "import datetime as dt\n",
        "appdata['first_open'] = pd.to_datetime(appdata['first_open']).dt.date"
      ],
      "execution_count": 11,
      "outputs": []
    },
    {
      "cell_type": "code",
      "metadata": {
        "id": "EX-hFPtqQ8I-",
        "outputId": "065d3f68-c971-4fd1-eb87-cb3c0b7a8a2b",
        "colab": {
          "base_uri": "https://localhost:8080/"
        }
      },
      "source": [
        "appdata['first_open'].value_counts()"
      ],
      "execution_count": 12,
      "outputs": [
        {
          "output_type": "execute_result",
          "data": {
            "text/plain": [
              "2013-07-05    396\n",
              "2013-05-31    366\n",
              "2013-05-14    348\n",
              "2013-07-02    342\n",
              "2013-06-08    338\n",
              "             ... \n",
              "2012-12-14    106\n",
              "2012-11-28    105\n",
              "2012-12-17    103\n",
              "2012-12-13     98\n",
              "2012-12-02     82\n",
              "Name: first_open, Length: 229, dtype: int64"
            ]
          },
          "metadata": {
            "tags": []
          },
          "execution_count": 12
        }
      ]
    },
    {
      "cell_type": "code",
      "metadata": {
        "id": "Lg0QKRsqC_z-"
      },
      "source": [
        "appdata['enrolled_date'] = pd.to_datetime(appdata['enrolled_date']).dt.date"
      ],
      "execution_count": 13,
      "outputs": []
    },
    {
      "cell_type": "code",
      "metadata": {
        "id": "H4GGxdWvDYXv"
      },
      "source": [
        "appdata['enroll_Diff'] = appdata['enrolled_date'] - appdata['first_open']"
      ],
      "execution_count": 14,
      "outputs": []
    },
    {
      "cell_type": "code",
      "metadata": {
        "id": "9JsUcIXyERnE"
      },
      "source": [
        "appdata['enroll_Diff'].fillna(pd.Timedelta(seconds=0), inplace = True)"
      ],
      "execution_count": 15,
      "outputs": []
    },
    {
      "cell_type": "code",
      "metadata": {
        "id": "gbP2zzAjRgLv",
        "outputId": "e7512e0b-3d31-4841-8f28-95729dc55712",
        "colab": {
          "base_uri": "https://localhost:8080/",
          "height": 298
        }
      },
      "source": [
        "appdata['first_open_year'] = pd.to_datetime(appdata['first_open']).dt.year\n",
        "appdata['first_open_year'].value_counts(normalize = True).plot(kind = 'bar')\n",
        "\n",
        "# Most of the data is from 2013"
      ],
      "execution_count": 16,
      "outputs": [
        {
          "output_type": "execute_result",
          "data": {
            "text/plain": [
              "<matplotlib.axes._subplots.AxesSubplot at 0x7f132380eb38>"
            ]
          },
          "metadata": {
            "tags": []
          },
          "execution_count": 16
        },
        {
          "output_type": "display_data",
          "data": {
            "image/png": "[encoded data removed]",
            "text/plain": [
              "<Figure size 432x288 with 1 Axes>"
            ]
          },
          "metadata": {
            "tags": [],
            "needs_background": "light"
          }
        }
      ]
    },
    {
      "cell_type": "code",
      "metadata": {
        "id": "ciW5EY4k26a_",
        "outputId": "537cd5b3-2853-4745-bbe9-38cad2645991",
        "colab": {
          "base_uri": "https://localhost:8080/",
          "height": 142
        }
      },
      "source": [
        "pd.crosstab(appdata.first_open_year,appdata.enrolled).apply(lambda x : x/x.sum(), axis = 1)"
      ],
      "execution_count": 17,
      "outputs": [
        {
          "output_type": "execute_result",
          "data": {
            "text/html": [
              "<div>\n",
              "<style scoped>\n",
              "    .dataframe tbody tr th:only-of-type {\n",
              "        vertical-align: middle;\n",
              "    }\n",
              "\n",
              "    .dataframe tbody tr th {\n",
              "        vertical-align: top;\n",
              "    }\n",
              "\n",
              "    .dataframe thead th {\n",
              "        text-align: right;\n",
              "    }\n",
              "</style>\n",
              "<table border=\"1\" class=\"dataframe\">\n",
              "  <thead>\n",
              "    <tr style=\"text-align: right;\">\n",
              "      <th>enrolled</th>\n",
              "      <th>0</th>\n",
              "      <th>1</th>\n",
              "    </tr>\n",
              "    <tr>\n",
              "      <th>first_open_year</th>\n",
              "      <th></th>\n",
              "      <th></th>\n",
              "    </tr>\n",
              "  </thead>\n",
              "  <tbody>\n",
              "    <tr>\n",
              "      <th>2012</th>\n",
              "      <td>0.601538</td>\n",
              "      <td>0.398462</td>\n",
              "    </tr>\n",
              "    <tr>\n",
              "      <th>2013</th>\n",
              "      <td>0.348206</td>\n",
              "      <td>0.651794</td>\n",
              "    </tr>\n",
              "  </tbody>\n",
              "</table>\n",
              "</div>"
            ],
            "text/plain": [
              "enrolled                0         1\n",
              "first_open_year                    \n",
              "2012             0.601538  0.398462\n",
              "2013             0.348206  0.651794"
            ]
          },
          "metadata": {
            "tags": []
          },
          "execution_count": 17
        }
      ]
    },
    {
      "cell_type": "code",
      "metadata": {
        "id": "1mt9HDt03UcE"
      },
      "source": [
        "# conversion rate is higher in 2013 compared to 2012.\n",
        "# But the dataset is imbalanced for reaching to any such conclusion.\n",
        "# More than 85 % of the dataset is from 2013"
      ],
      "execution_count": 18,
      "outputs": []
    },
    {
      "cell_type": "code",
      "metadata": {
        "id": "lb1X9TR6R2t1",
        "outputId": "744b96b8-b524-4606-a5dc-5d48ac545209",
        "colab": {
          "base_uri": "https://localhost:8080/",
          "height": 285
        }
      },
      "source": [
        "appdata['first_open_month'] = pd.to_datetime(appdata['first_open']).dt.month\n",
        "appdata['first_open_month'].value_counts().sort_index().plot(kind = 'bar')\n",
        "# Highest number of users are in May and June.\n",
        "# 11-12 are from 2012 and seems to be near the launch of the application"
      ],
      "execution_count": 19,
      "outputs": [
        {
          "output_type": "execute_result",
          "data": {
            "text/plain": [
              "<matplotlib.axes._subplots.AxesSubplot at 0x7f132450fba8>"
            ]
          },
          "metadata": {
            "tags": []
          },
          "execution_count": 19
        },
        {
          "output_type": "display_data",
          "data": {
            "image/png": "[encoded data removed]",
            "text/plain": [
              "<Figure size 432x288 with 1 Axes>"
            ]
          },
          "metadata": {
            "tags": [],
            "needs_background": "light"
          }
        }
      ]
    },
    {
      "cell_type": "code",
      "metadata": {
        "id": "q_suQ5pH9RWA",
        "outputId": "30e40c24-91a1-4d1c-c09f-b40a9a8095a5",
        "colab": {
          "base_uri": "https://localhost:8080/",
          "height": 359
        }
      },
      "source": [
        "pd.crosstab(appdata.first_open_month,appdata.enrolled).apply(lambda x : x/x.sum(), axis =1)"
      ],
      "execution_count": 20,
      "outputs": [
        {
          "output_type": "execute_result",
          "data": {
            "text/html": [
              "<div>\n",
              "<style scoped>\n",
              "    .dataframe tbody tr th:only-of-type {\n",
              "        vertical-align: middle;\n",
              "    }\n",
              "\n",
              "    .dataframe tbody tr th {\n",
              "        vertical-align: top;\n",
              "    }\n",
              "\n",
              "    .dataframe thead th {\n",
              "        text-align: right;\n",
              "    }\n",
              "</style>\n",
              "<table border=\"1\" class=\"dataframe\">\n",
              "  <thead>\n",
              "    <tr style=\"text-align: right;\">\n",
              "      <th>enrolled</th>\n",
              "      <th>0</th>\n",
              "      <th>1</th>\n",
              "    </tr>\n",
              "    <tr>\n",
              "      <th>first_open_month</th>\n",
              "      <th></th>\n",
              "      <th></th>\n",
              "    </tr>\n",
              "  </thead>\n",
              "  <tbody>\n",
              "    <tr>\n",
              "      <th>1</th>\n",
              "      <td>0.471448</td>\n",
              "      <td>0.528552</td>\n",
              "    </tr>\n",
              "    <tr>\n",
              "      <th>2</th>\n",
              "      <td>0.246972</td>\n",
              "      <td>0.753028</td>\n",
              "    </tr>\n",
              "    <tr>\n",
              "      <th>3</th>\n",
              "      <td>0.299020</td>\n",
              "      <td>0.700980</td>\n",
              "    </tr>\n",
              "    <tr>\n",
              "      <th>4</th>\n",
              "      <td>0.346841</td>\n",
              "      <td>0.653159</td>\n",
              "    </tr>\n",
              "    <tr>\n",
              "      <th>5</th>\n",
              "      <td>0.325678</td>\n",
              "      <td>0.674322</td>\n",
              "    </tr>\n",
              "    <tr>\n",
              "      <th>6</th>\n",
              "      <td>0.370676</td>\n",
              "      <td>0.629324</td>\n",
              "    </tr>\n",
              "    <tr>\n",
              "      <th>7</th>\n",
              "      <td>0.460279</td>\n",
              "      <td>0.539721</td>\n",
              "    </tr>\n",
              "    <tr>\n",
              "      <th>11</th>\n",
              "      <td>0.586980</td>\n",
              "      <td>0.413020</td>\n",
              "    </tr>\n",
              "    <tr>\n",
              "      <th>12</th>\n",
              "      <td>0.604241</td>\n",
              "      <td>0.395759</td>\n",
              "    </tr>\n",
              "  </tbody>\n",
              "</table>\n",
              "</div>"
            ],
            "text/plain": [
              "enrolled                 0         1\n",
              "first_open_month                    \n",
              "1                 0.471448  0.528552\n",
              "2                 0.246972  0.753028\n",
              "3                 0.299020  0.700980\n",
              "4                 0.346841  0.653159\n",
              "5                 0.325678  0.674322\n",
              "6                 0.370676  0.629324\n",
              "7                 0.460279  0.539721\n",
              "11                0.586980  0.413020\n",
              "12                0.604241  0.395759"
            ]
          },
          "metadata": {
            "tags": []
          },
          "execution_count": 20
        }
      ]
    },
    {
      "cell_type": "code",
      "metadata": {
        "id": "3CW-0CM09ko_",
        "outputId": "b6c2943a-283e-4f87-c8e7-b72d0696cced",
        "colab": {
          "base_uri": "https://localhost:8080/",
          "height": 297
        }
      },
      "source": [
        "sns.countplot(x = appdata.first_open_month, hue = appdata.enrolled)\n",
        "# Highest conversion rate is in Feb"
      ],
      "execution_count": 21,
      "outputs": [
        {
          "output_type": "execute_result",
          "data": {
            "text/plain": [
              "<matplotlib.axes._subplots.AxesSubplot at 0x7f1322418fd0>"
            ]
          },
          "metadata": {
            "tags": []
          },
          "execution_count": 21
        },
        {
          "output_type": "display_data",
          "data": {
            "image/png": "[encoded data removed]",
            "text/plain": [
              "<Figure size 432x288 with 1 Axes>"
            ]
          },
          "metadata": {
            "tags": [],
            "needs_background": "light"
          }
        }
      ]
    },
    {
      "cell_type": "code",
      "metadata": {
        "id": "h0jGIYdkb75F",
        "outputId": "ae14f364-78e2-4403-aa79-36bb9bbbd705",
        "colab": {
          "base_uri": "https://localhost:8080/",
          "height": 254
        }
      },
      "source": [
        "sns.set(rc={'figure.figsize':(24, 4)})\n",
        "sns.countplot(x = 'hour', data = appdata, hue = 'enrolled')"
      ],
      "execution_count": 22,
      "outputs": [
        {
          "output_type": "execute_result",
          "data": {
            "text/plain": [
              "<matplotlib.axes._subplots.AxesSubplot at 0x7f1324493fd0>"
            ]
          },
          "metadata": {
            "tags": []
          },
          "execution_count": 22
        },
        {
          "output_type": "display_data",
          "data": {
            "image/png": "[encoded data removed]",
            "text/plain": [
              "<Figure size 1728x288 with 1 Axes>"
            ]
          },
          "metadata": {
            "tags": []
          }
        }
      ]
    },
    {
      "cell_type": "code",
      "metadata": {
        "id": "tSn6-rtfFhkW"
      },
      "source": [
        "appdata[\"hour\"] = appdata.hour.str.slice(1, 3).astype(int)"
      ],
      "execution_count": 23,
      "outputs": []
    },
    {
      "cell_type": "code",
      "metadata": {
        "id": "dEKJk2z1fCFT",
        "outputId": "c3619603-3ac0-4c40-f055-3999f2bd9215",
        "colab": {
          "base_uri": "https://localhost:8080/",
          "height": 824
        }
      },
      "source": [
        "pd.crosstab(appdata['hour'], appdata['enrolled']).apply(lambda x : x/x.sum(), axis = 1)\n",
        "# Highest conversion is between 4-6"
      ],
      "execution_count": 24,
      "outputs": [
        {
          "output_type": "execute_result",
          "data": {
            "text/html": [
              "<div>\n",
              "<style scoped>\n",
              "    .dataframe tbody tr th:only-of-type {\n",
              "        vertical-align: middle;\n",
              "    }\n",
              "\n",
              "    .dataframe tbody tr th {\n",
              "        vertical-align: top;\n",
              "    }\n",
              "\n",
              "    .dataframe thead th {\n",
              "        text-align: right;\n",
              "    }\n",
              "</style>\n",
              "<table border=\"1\" class=\"dataframe\">\n",
              "  <thead>\n",
              "    <tr style=\"text-align: right;\">\n",
              "      <th>enrolled</th>\n",
              "      <th>0</th>\n",
              "      <th>1</th>\n",
              "    </tr>\n",
              "    <tr>\n",
              "      <th>hour</th>\n",
              "      <th></th>\n",
              "      <th></th>\n",
              "    </tr>\n",
              "  </thead>\n",
              "  <tbody>\n",
              "    <tr>\n",
              "      <th>0</th>\n",
              "      <td>0.345461</td>\n",
              "      <td>0.654539</td>\n",
              "    </tr>\n",
              "    <tr>\n",
              "      <th>1</th>\n",
              "      <td>0.337572</td>\n",
              "      <td>0.662428</td>\n",
              "    </tr>\n",
              "    <tr>\n",
              "      <th>2</th>\n",
              "      <td>0.312026</td>\n",
              "      <td>0.687974</td>\n",
              "    </tr>\n",
              "    <tr>\n",
              "      <th>3</th>\n",
              "      <td>0.382762</td>\n",
              "      <td>0.617238</td>\n",
              "    </tr>\n",
              "    <tr>\n",
              "      <th>4</th>\n",
              "      <td>0.298500</td>\n",
              "      <td>0.701500</td>\n",
              "    </tr>\n",
              "    <tr>\n",
              "      <th>5</th>\n",
              "      <td>0.298726</td>\n",
              "      <td>0.701274</td>\n",
              "    </tr>\n",
              "    <tr>\n",
              "      <th>6</th>\n",
              "      <td>0.299299</td>\n",
              "      <td>0.700701</td>\n",
              "    </tr>\n",
              "    <tr>\n",
              "      <th>7</th>\n",
              "      <td>0.365854</td>\n",
              "      <td>0.634146</td>\n",
              "    </tr>\n",
              "    <tr>\n",
              "      <th>8</th>\n",
              "      <td>0.347439</td>\n",
              "      <td>0.652561</td>\n",
              "    </tr>\n",
              "    <tr>\n",
              "      <th>9</th>\n",
              "      <td>0.398701</td>\n",
              "      <td>0.601299</td>\n",
              "    </tr>\n",
              "    <tr>\n",
              "      <th>10</th>\n",
              "      <td>0.312132</td>\n",
              "      <td>0.687868</td>\n",
              "    </tr>\n",
              "    <tr>\n",
              "      <th>11</th>\n",
              "      <td>0.362736</td>\n",
              "      <td>0.637264</td>\n",
              "    </tr>\n",
              "    <tr>\n",
              "      <th>12</th>\n",
              "      <td>0.340834</td>\n",
              "      <td>0.659166</td>\n",
              "    </tr>\n",
              "    <tr>\n",
              "      <th>13</th>\n",
              "      <td>0.428058</td>\n",
              "      <td>0.571942</td>\n",
              "    </tr>\n",
              "    <tr>\n",
              "      <th>14</th>\n",
              "      <td>0.355998</td>\n",
              "      <td>0.644002</td>\n",
              "    </tr>\n",
              "    <tr>\n",
              "      <th>15</th>\n",
              "      <td>0.461358</td>\n",
              "      <td>0.538642</td>\n",
              "    </tr>\n",
              "    <tr>\n",
              "      <th>16</th>\n",
              "      <td>0.371326</td>\n",
              "      <td>0.628674</td>\n",
              "    </tr>\n",
              "    <tr>\n",
              "      <th>17</th>\n",
              "      <td>0.454287</td>\n",
              "      <td>0.545713</td>\n",
              "    </tr>\n",
              "    <tr>\n",
              "      <th>18</th>\n",
              "      <td>0.374130</td>\n",
              "      <td>0.625870</td>\n",
              "    </tr>\n",
              "    <tr>\n",
              "      <th>19</th>\n",
              "      <td>0.444609</td>\n",
              "      <td>0.555391</td>\n",
              "    </tr>\n",
              "    <tr>\n",
              "      <th>20</th>\n",
              "      <td>0.355926</td>\n",
              "      <td>0.644074</td>\n",
              "    </tr>\n",
              "    <tr>\n",
              "      <th>21</th>\n",
              "      <td>0.441751</td>\n",
              "      <td>0.558249</td>\n",
              "    </tr>\n",
              "    <tr>\n",
              "      <th>22</th>\n",
              "      <td>0.376109</td>\n",
              "      <td>0.623891</td>\n",
              "    </tr>\n",
              "    <tr>\n",
              "      <th>23</th>\n",
              "      <td>0.426945</td>\n",
              "      <td>0.573055</td>\n",
              "    </tr>\n",
              "  </tbody>\n",
              "</table>\n",
              "</div>"
            ],
            "text/plain": [
              "enrolled         0         1\n",
              "hour                        \n",
              "0         0.345461  0.654539\n",
              "1         0.337572  0.662428\n",
              "2         0.312026  0.687974\n",
              "3         0.382762  0.617238\n",
              "4         0.298500  0.701500\n",
              "5         0.298726  0.701274\n",
              "6         0.299299  0.700701\n",
              "7         0.365854  0.634146\n",
              "8         0.347439  0.652561\n",
              "9         0.398701  0.601299\n",
              "10        0.312132  0.687868\n",
              "11        0.362736  0.637264\n",
              "12        0.340834  0.659166\n",
              "13        0.428058  0.571942\n",
              "14        0.355998  0.644002\n",
              "15        0.461358  0.538642\n",
              "16        0.371326  0.628674\n",
              "17        0.454287  0.545713\n",
              "18        0.374130  0.625870\n",
              "19        0.444609  0.555391\n",
              "20        0.355926  0.644074\n",
              "21        0.441751  0.558249\n",
              "22        0.376109  0.623891\n",
              "23        0.426945  0.573055"
            ]
          },
          "metadata": {
            "tags": []
          },
          "execution_count": 24
        }
      ]
    },
    {
      "cell_type": "code",
      "metadata": {
        "id": "zjmSRNiXfpry",
        "outputId": "a8d81953-c4e2-4c45-e258-75e4423af1fa",
        "colab": {
          "base_uri": "https://localhost:8080/",
          "height": 308
        }
      },
      "source": [
        "sns.distplot(appdata['age'])"
      ],
      "execution_count": 25,
      "outputs": [
        {
          "output_type": "stream",
          "text": [
            "/usr/local/lib/python3.6/dist-packages/seaborn/distributions.py:2551: FutureWarning: `distplot` is a deprecated function and will be removed in a future version. Please adapt your code to use either `displot` (a figure-level function with similar flexibility) or `histplot` (an axes-level function for histograms).\n",
            "  warnings.warn(msg, FutureWarning)\n"
          ],
          "name": "stderr"
        },
        {
          "output_type": "execute_result",
          "data": {
            "text/plain": [
              "<matplotlib.axes._subplots.AxesSubplot at 0x7f13242d8ba8>"
            ]
          },
          "metadata": {
            "tags": []
          },
          "execution_count": 25
        },
        {
          "output_type": "display_data",
          "data": {
            "image/png": "[encoded data removed]",
            "text/plain": [
              "<Figure size 1728x288 with 1 Axes>"
            ]
          },
          "metadata": {
            "tags": []
          }
        }
      ]
    },
    {
      "cell_type": "code",
      "metadata": {
        "id": "YAWAeu6lgLUC"
      },
      "source": [
        "#binning age into age groups\n",
        "appdata['age_group'] = pd.cut(appdata['age'], [13, 17,34,54,70], labels=['Teens (13-17)', 'Millennials (18-34)', 'Gen X (35-54)', 'Boomers (55-70)'])"
      ],
      "execution_count": 26,
      "outputs": []
    },
    {
      "cell_type": "code",
      "metadata": {
        "id": "jMej0Y17jI3-",
        "outputId": "f07fa154-fdb0-4916-f2c7-606e909c4365",
        "colab": {
          "base_uri": "https://localhost:8080/",
          "height": 307
        }
      },
      "source": [
        "sns.countplot(appdata['age_group'], hue = 'enrolled', data = appdata)"
      ],
      "execution_count": 27,
      "outputs": [
        {
          "output_type": "stream",
          "text": [
            "/usr/local/lib/python3.6/dist-packages/seaborn/_decorators.py:43: FutureWarning: Pass the following variable as a keyword arg: x. From version 0.12, the only valid positional argument will be `data`, and passing other arguments without an explicit keyword will result in an error or misinterpretation.\n",
            "  FutureWarning\n"
          ],
          "name": "stderr"
        },
        {
          "output_type": "execute_result",
          "data": {
            "text/plain": [
              "<matplotlib.axes._subplots.AxesSubplot at 0x7f1324342b70>"
            ]
          },
          "metadata": {
            "tags": []
          },
          "execution_count": 27
        },
        {
          "output_type": "display_data",
          "data": {
            "image/png": "[encoded data removed]",
            "text/plain": [
              "<Figure size 1728x288 with 1 Axes>"
            ]
          },
          "metadata": {
            "tags": []
          }
        }
      ]
    },
    {
      "cell_type": "code",
      "metadata": {
        "id": "eNefMm4Ujg4g",
        "outputId": "0cb7459c-0010-4da4-a5fe-17ea79216c18",
        "colab": {
          "base_uri": "https://localhost:8080/",
          "height": 204
        }
      },
      "source": [
        "pd.crosstab(appdata['age_group'], appdata['enrolled']).apply(lambda x : x/x.sum(), axis = 1)\n",
        "#Millennials are the target audience and conversion rate is highest for them"
      ],
      "execution_count": 28,
      "outputs": [
        {
          "output_type": "execute_result",
          "data": {
            "text/html": [
              "<div>\n",
              "<style scoped>\n",
              "    .dataframe tbody tr th:only-of-type {\n",
              "        vertical-align: middle;\n",
              "    }\n",
              "\n",
              "    .dataframe tbody tr th {\n",
              "        vertical-align: top;\n",
              "    }\n",
              "\n",
              "    .dataframe thead th {\n",
              "        text-align: right;\n",
              "    }\n",
              "</style>\n",
              "<table border=\"1\" class=\"dataframe\">\n",
              "  <thead>\n",
              "    <tr style=\"text-align: right;\">\n",
              "      <th>enrolled</th>\n",
              "      <th>0</th>\n",
              "      <th>1</th>\n",
              "    </tr>\n",
              "    <tr>\n",
              "      <th>age_group</th>\n",
              "      <th></th>\n",
              "      <th></th>\n",
              "    </tr>\n",
              "  </thead>\n",
              "  <tbody>\n",
              "    <tr>\n",
              "      <th>Teens (13-17)</th>\n",
              "      <td>0.354002</td>\n",
              "      <td>0.645998</td>\n",
              "    </tr>\n",
              "    <tr>\n",
              "      <th>Millennials (18-34)</th>\n",
              "      <td>0.336176</td>\n",
              "      <td>0.663824</td>\n",
              "    </tr>\n",
              "    <tr>\n",
              "      <th>Gen X (35-54)</th>\n",
              "      <td>0.458286</td>\n",
              "      <td>0.541714</td>\n",
              "    </tr>\n",
              "    <tr>\n",
              "      <th>Boomers (55-70)</th>\n",
              "      <td>0.525248</td>\n",
              "      <td>0.474752</td>\n",
              "    </tr>\n",
              "  </tbody>\n",
              "</table>\n",
              "</div>"
            ],
            "text/plain": [
              "enrolled                    0         1\n",
              "age_group                              \n",
              "Teens (13-17)        0.354002  0.645998\n",
              "Millennials (18-34)  0.336176  0.663824\n",
              "Gen X (35-54)        0.458286  0.541714\n",
              "Boomers (55-70)      0.525248  0.474752"
            ]
          },
          "metadata": {
            "tags": []
          },
          "execution_count": 28
        }
      ]
    },
    {
      "cell_type": "code",
      "metadata": {
        "id": "znqyFdgplHHr",
        "outputId": "aa4fede1-bcda-451b-c4b8-5d9af7d39530",
        "colab": {
          "base_uri": "https://localhost:8080/",
          "height": 307
        }
      },
      "source": [
        "sns.distplot(appdata.numscreens)"
      ],
      "execution_count": 29,
      "outputs": [
        {
          "output_type": "stream",
          "text": [
            "/usr/local/lib/python3.6/dist-packages/seaborn/distributions.py:2551: FutureWarning: `distplot` is a deprecated function and will be removed in a future version. Please adapt your code to use either `displot` (a figure-level function with similar flexibility) or `histplot` (an axes-level function for histograms).\n",
            "  warnings.warn(msg, FutureWarning)\n"
          ],
          "name": "stderr"
        },
        {
          "output_type": "execute_result",
          "data": {
            "text/plain": [
              "<matplotlib.axes._subplots.AxesSubplot at 0x7f132390a048>"
            ]
          },
          "metadata": {
            "tags": []
          },
          "execution_count": 29
        },
        {
          "output_type": "display_data",
          "data": {
            "image/png": "[encoded data removed]",
            "text/plain": [
              "<Figure size 1728x288 with 1 Axes>"
            ]
          },
          "metadata": {
            "tags": []
          }
        }
      ]
    },
    {
      "cell_type": "code",
      "metadata": {
        "id": "VH-ii4r1lnyz",
        "outputId": "09ae838e-cd10-45af-f082-006c35ca92e1",
        "colab": {
          "base_uri": "https://localhost:8080/"
        }
      },
      "source": [
        "#binning num_screens used into groups by count of usage\n",
        "appdata['num_screen_grp'] = pd.cut(appdata['numscreens'], [0,10,20,30,40,50,60,70,100], labels=['very_less[0-10]','less[10-20]','mod[20-30]','mod_high[30-40]','high[40-50]','very_high[50-60]','v_very_high[60-70]','outliers[70-100]'])\n",
        "appdata['num_screen_grp'].value_counts()"
      ],
      "execution_count": 30,
      "outputs": [
        {
          "output_type": "execute_result",
          "data": {
            "text/plain": [
              "less[10-20]           15935\n",
              "very_less[0-10]       13292\n",
              "mod[20-30]            10329\n",
              "mod_high[30-40]        5176\n",
              "high[40-50]            2676\n",
              "very_high[50-60]       1323\n",
              "v_very_high[60-70]      644\n",
              "outliers[70-100]        542\n",
              "Name: num_screen_grp, dtype: int64"
            ]
          },
          "metadata": {
            "tags": []
          },
          "execution_count": 30
        }
      ]
    },
    {
      "cell_type": "code",
      "metadata": {
        "id": "NWDRrcwQoIBd",
        "outputId": "828f2f54-f78c-4d44-a67c-91acdea2361f",
        "colab": {
          "base_uri": "https://localhost:8080/",
          "height": 328
        }
      },
      "source": [
        "pd.crosstab(appdata['num_screen_grp'], appdata['enrolled']).apply(lambda x : x/x.sum(), axis = 1)"
      ],
      "execution_count": 31,
      "outputs": [
        {
          "output_type": "execute_result",
          "data": {
            "text/html": [
              "<div>\n",
              "<style scoped>\n",
              "    .dataframe tbody tr th:only-of-type {\n",
              "        vertical-align: middle;\n",
              "    }\n",
              "\n",
              "    .dataframe tbody tr th {\n",
              "        vertical-align: top;\n",
              "    }\n",
              "\n",
              "    .dataframe thead th {\n",
              "        text-align: right;\n",
              "    }\n",
              "</style>\n",
              "<table border=\"1\" class=\"dataframe\">\n",
              "  <thead>\n",
              "    <tr style=\"text-align: right;\">\n",
              "      <th>enrolled</th>\n",
              "      <th>0</th>\n",
              "      <th>1</th>\n",
              "    </tr>\n",
              "    <tr>\n",
              "      <th>num_screen_grp</th>\n",
              "      <th></th>\n",
              "      <th></th>\n",
              "    </tr>\n",
              "  </thead>\n",
              "  <tbody>\n",
              "    <tr>\n",
              "      <th>very_less[0-10]</th>\n",
              "      <td>0.565679</td>\n",
              "      <td>0.434321</td>\n",
              "    </tr>\n",
              "    <tr>\n",
              "      <th>less[10-20]</th>\n",
              "      <td>0.381864</td>\n",
              "      <td>0.618136</td>\n",
              "    </tr>\n",
              "    <tr>\n",
              "      <th>mod[20-30]</th>\n",
              "      <td>0.271372</td>\n",
              "      <td>0.728628</td>\n",
              "    </tr>\n",
              "    <tr>\n",
              "      <th>mod_high[30-40]</th>\n",
              "      <td>0.248648</td>\n",
              "      <td>0.751352</td>\n",
              "    </tr>\n",
              "    <tr>\n",
              "      <th>high[40-50]</th>\n",
              "      <td>0.220478</td>\n",
              "      <td>0.779522</td>\n",
              "    </tr>\n",
              "    <tr>\n",
              "      <th>very_high[50-60]</th>\n",
              "      <td>0.232804</td>\n",
              "      <td>0.767196</td>\n",
              "    </tr>\n",
              "    <tr>\n",
              "      <th>v_very_high[60-70]</th>\n",
              "      <td>0.257764</td>\n",
              "      <td>0.742236</td>\n",
              "    </tr>\n",
              "    <tr>\n",
              "      <th>outliers[70-100]</th>\n",
              "      <td>0.261993</td>\n",
              "      <td>0.738007</td>\n",
              "    </tr>\n",
              "  </tbody>\n",
              "</table>\n",
              "</div>"
            ],
            "text/plain": [
              "enrolled                   0         1\n",
              "num_screen_grp                        \n",
              "very_less[0-10]     0.565679  0.434321\n",
              "less[10-20]         0.381864  0.618136\n",
              "mod[20-30]          0.271372  0.728628\n",
              "mod_high[30-40]     0.248648  0.751352\n",
              "high[40-50]         0.220478  0.779522\n",
              "very_high[50-60]    0.232804  0.767196\n",
              "v_very_high[60-70]  0.257764  0.742236\n",
              "outliers[70-100]    0.261993  0.738007"
            ]
          },
          "metadata": {
            "tags": []
          },
          "execution_count": 31
        }
      ]
    },
    {
      "cell_type": "code",
      "metadata": {
        "id": "HHMjMIvc_4zk",
        "outputId": "ff265234-56bc-4dae-e745-f9e6f3808dcd",
        "colab": {
          "base_uri": "https://localhost:8080/",
          "height": 254
        }
      },
      "source": [
        "sns.countplot(x = appdata.num_screen_grp, hue = appdata.enrolled)\n",
        "# Customers who have used screens between 30 to 70 are most likely to enroll"
      ],
      "execution_count": 32,
      "outputs": [
        {
          "output_type": "execute_result",
          "data": {
            "text/plain": [
              "<matplotlib.axes._subplots.AxesSubplot at 0x7f131f5b92e8>"
            ]
          },
          "metadata": {
            "tags": []
          },
          "execution_count": 32
        },
        {
          "output_type": "display_data",
          "data": {
            "image/png": "[encoded data removed]",
            "text/plain": [
              "<Figure size 1728x288 with 1 Axes>"
            ]
          },
          "metadata": {
            "tags": []
          }
        }
      ]
    },
    {
      "cell_type": "code",
      "metadata": {
        "id": "NKNGZoc7B0g4",
        "outputId": "101045c1-da46-46d7-e866-5a26bd74d555",
        "colab": {
          "base_uri": "https://localhost:8080/"
        }
      },
      "source": [
        "appdata.info()"
      ],
      "execution_count": 33,
      "outputs": [
        {
          "output_type": "stream",
          "text": [
            "<class 'pandas.core.frame.DataFrame'>\n",
            "RangeIndex: 50000 entries, 0 to 49999\n",
            "Data columns (total 17 columns):\n",
            " #   Column                Non-Null Count  Dtype          \n",
            "---  ------                --------------  -----          \n",
            " 0   user                  50000 non-null  int64          \n",
            " 1   first_open            50000 non-null  object         \n",
            " 2   dayofweek             50000 non-null  int64          \n",
            " 3   hour                  50000 non-null  int64          \n",
            " 4   age                   50000 non-null  int64          \n",
            " 5   screen_list           50000 non-null  object         \n",
            " 6   numscreens            50000 non-null  int64          \n",
            " 7   minigame              50000 non-null  int64          \n",
            " 8   used_premium_feature  50000 non-null  int64          \n",
            " 9   enrolled              50000 non-null  int64          \n",
            " 10  enrolled_date         31074 non-null  object         \n",
            " 11  liked                 50000 non-null  int64          \n",
            " 12  enroll_Diff           50000 non-null  timedelta64[ns]\n",
            " 13  first_open_year       50000 non-null  int64          \n",
            " 14  first_open_month      50000 non-null  int64          \n",
            " 15  age_group             49833 non-null  category       \n",
            " 16  num_screen_grp        49917 non-null  category       \n",
            "dtypes: category(2), int64(11), object(3), timedelta64[ns](1)\n",
            "memory usage: 5.8+ MB\n"
          ],
          "name": "stdout"
        }
      ]
    },
    {
      "cell_type": "code",
      "metadata": {
        "id": "-z-wYtN9Cq55",
        "outputId": "df95bd14-bedc-4fa3-9f11-72387cadf88e",
        "colab": {
          "base_uri": "https://localhost:8080/",
          "height": 254
        }
      },
      "source": [
        "sns.heatmap(appdata.corr(), annot = True)\n",
        "# age, numscreens,minigame, first_open_year, first_open_month seems to have correlation with enrolled[target]\n",
        "# There seems to be some form of multi-collinearity between year and month of usage"
      ],
      "execution_count": 34,
      "outputs": [
        {
          "output_type": "execute_result",
          "data": {
            "text/plain": [
              "<matplotlib.axes._subplots.AxesSubplot at 0x7f1324508f98>"
            ]
          },
          "metadata": {
            "tags": []
          },
          "execution_count": 34
        },
        {
          "output_type": "display_data",
          "data": {
            "image/png": "[encoded data removed]",
            "text/plain": [
              "<Figure size 1728x288 with 2 Axes>"
            ]
          },
          "metadata": {
            "tags": []
          }
        }
      ]
    },
    {
      "cell_type": "markdown",
      "metadata": {
        "id": "OSH8yPx6CjES"
      },
      "source": [
        "#### DATA PREPROCESSING AND FEATURE ENGINEERING"
      ]
    },
    {
      "cell_type": "code",
      "metadata": {
        "id": "eid30tPMCoKF",
        "outputId": "b11224ed-b3ec-44d0-fa65-0fb7fe28b1f6",
        "colab": {
          "base_uri": "https://localhost:8080/",
          "height": 204
        }
      },
      "source": [
        "# Let's drop certain columns which seems irrelevant\n",
        "data = appdata.drop(columns = ['user', 'first_open','screen_list','enrolled_date','age_group','num_screen_grp'])\n",
        "data.head()"
      ],
      "execution_count": 35,
      "outputs": [
        {
          "output_type": "execute_result",
          "data": {
            "text/html": [
              "<div>\n",
              "<style scoped>\n",
              "    .dataframe tbody tr th:only-of-type {\n",
              "        vertical-align: middle;\n",
              "    }\n",
              "\n",
              "    .dataframe tbody tr th {\n",
              "        vertical-align: top;\n",
              "    }\n",
              "\n",
              "    .dataframe thead th {\n",
              "        text-align: right;\n",
              "    }\n",
              "</style>\n",
              "<table border=\"1\" class=\"dataframe\">\n",
              "  <thead>\n",
              "    <tr style=\"text-align: right;\">\n",
              "      <th></th>\n",
              "      <th>dayofweek</th>\n",
              "      <th>hour</th>\n",
              "      <th>age</th>\n",
              "      <th>numscreens</th>\n",
              "      <th>minigame</th>\n",
              "      <th>used_premium_feature</th>\n",
              "      <th>enrolled</th>\n",
              "      <th>liked</th>\n",
              "      <th>enroll_Diff</th>\n",
              "      <th>first_open_year</th>\n",
              "      <th>first_open_month</th>\n",
              "    </tr>\n",
              "  </thead>\n",
              "  <tbody>\n",
              "    <tr>\n",
              "      <th>0</th>\n",
              "      <td>3</td>\n",
              "      <td>2</td>\n",
              "      <td>23</td>\n",
              "      <td>15</td>\n",
              "      <td>0</td>\n",
              "      <td>0</td>\n",
              "      <td>0</td>\n",
              "      <td>0</td>\n",
              "      <td>0 days</td>\n",
              "      <td>2012</td>\n",
              "      <td>12</td>\n",
              "    </tr>\n",
              "    <tr>\n",
              "      <th>1</th>\n",
              "      <td>6</td>\n",
              "      <td>1</td>\n",
              "      <td>24</td>\n",
              "      <td>13</td>\n",
              "      <td>0</td>\n",
              "      <td>0</td>\n",
              "      <td>0</td>\n",
              "      <td>0</td>\n",
              "      <td>0 days</td>\n",
              "      <td>2012</td>\n",
              "      <td>12</td>\n",
              "    </tr>\n",
              "    <tr>\n",
              "      <th>2</th>\n",
              "      <td>1</td>\n",
              "      <td>19</td>\n",
              "      <td>23</td>\n",
              "      <td>3</td>\n",
              "      <td>0</td>\n",
              "      <td>1</td>\n",
              "      <td>0</td>\n",
              "      <td>1</td>\n",
              "      <td>0 days</td>\n",
              "      <td>2013</td>\n",
              "      <td>3</td>\n",
              "    </tr>\n",
              "    <tr>\n",
              "      <th>3</th>\n",
              "      <td>4</td>\n",
              "      <td>16</td>\n",
              "      <td>28</td>\n",
              "      <td>40</td>\n",
              "      <td>0</td>\n",
              "      <td>0</td>\n",
              "      <td>1</td>\n",
              "      <td>0</td>\n",
              "      <td>0 days</td>\n",
              "      <td>2013</td>\n",
              "      <td>7</td>\n",
              "    </tr>\n",
              "    <tr>\n",
              "      <th>4</th>\n",
              "      <td>1</td>\n",
              "      <td>18</td>\n",
              "      <td>31</td>\n",
              "      <td>32</td>\n",
              "      <td>0</td>\n",
              "      <td>0</td>\n",
              "      <td>1</td>\n",
              "      <td>1</td>\n",
              "      <td>0 days</td>\n",
              "      <td>2013</td>\n",
              "      <td>2</td>\n",
              "    </tr>\n",
              "  </tbody>\n",
              "</table>\n",
              "</div>"
            ],
            "text/plain": [
              "   dayofweek  hour  age  ...  enroll_Diff  first_open_year  first_open_month\n",
              "0          3     2   23  ...       0 days             2012                12\n",
              "1          6     1   24  ...       0 days             2012                12\n",
              "2          1    19   23  ...       0 days             2013                 3\n",
              "3          4    16   28  ...       0 days             2013                 7\n",
              "4          1    18   31  ...       0 days             2013                 2\n",
              "\n",
              "[5 rows x 11 columns]"
            ]
          },
          "metadata": {
            "tags": []
          },
          "execution_count": 35
        }
      ]
    },
    {
      "cell_type": "code",
      "metadata": {
        "id": "hTMYkV77Ia3t",
        "outputId": "d4b5472f-4080-478c-c27f-b975fe0e8f89",
        "colab": {
          "base_uri": "https://localhost:8080/"
        }
      },
      "source": [
        "data.info()"
      ],
      "execution_count": 36,
      "outputs": [
        {
          "output_type": "stream",
          "text": [
            "<class 'pandas.core.frame.DataFrame'>\n",
            "RangeIndex: 50000 entries, 0 to 49999\n",
            "Data columns (total 11 columns):\n",
            " #   Column                Non-Null Count  Dtype          \n",
            "---  ------                --------------  -----          \n",
            " 0   dayofweek             50000 non-null  int64          \n",
            " 1   hour                  50000 non-null  int64          \n",
            " 2   age                   50000 non-null  int64          \n",
            " 3   numscreens            50000 non-null  int64          \n",
            " 4   minigame              50000 non-null  int64          \n",
            " 5   used_premium_feature  50000 non-null  int64          \n",
            " 6   enrolled              50000 non-null  int64          \n",
            " 7   liked                 50000 non-null  int64          \n",
            " 8   enroll_Diff           50000 non-null  timedelta64[ns]\n",
            " 9   first_open_year       50000 non-null  int64          \n",
            " 10  first_open_month      50000 non-null  int64          \n",
            "dtypes: int64(10), timedelta64[ns](1)\n",
            "memory usage: 4.2 MB\n"
          ],
          "name": "stdout"
        }
      ]
    },
    {
      "cell_type": "code",
      "metadata": {
        "id": "BD5foBmCIfG_",
        "outputId": "53cce43f-5d6b-4b8b-9ce4-7bb622804dca",
        "colab": {
          "base_uri": "https://localhost:8080/",
          "height": 204
        }
      },
      "source": [
        "data['enroll_Diff'] = data['enroll_Diff'].astype(int)\n",
        "data.head()"
      ],
      "execution_count": 51,
      "outputs": [
        {
          "output_type": "execute_result",
          "data": {
            "text/html": [
              "<div>\n",
              "<style scoped>\n",
              "    .dataframe tbody tr th:only-of-type {\n",
              "        vertical-align: middle;\n",
              "    }\n",
              "\n",
              "    .dataframe tbody tr th {\n",
              "        vertical-align: top;\n",
              "    }\n",
              "\n",
              "    .dataframe thead th {\n",
              "        text-align: right;\n",
              "    }\n",
              "</style>\n",
              "<table border=\"1\" class=\"dataframe\">\n",
              "  <thead>\n",
              "    <tr style=\"text-align: right;\">\n",
              "      <th></th>\n",
              "      <th>dayofweek</th>\n",
              "      <th>hour</th>\n",
              "      <th>age</th>\n",
              "      <th>numscreens</th>\n",
              "      <th>minigame</th>\n",
              "      <th>used_premium_feature</th>\n",
              "      <th>enrolled</th>\n",
              "      <th>liked</th>\n",
              "      <th>enroll_Diff</th>\n",
              "      <th>first_open_year</th>\n",
              "      <th>first_open_month</th>\n",
              "    </tr>\n",
              "  </thead>\n",
              "  <tbody>\n",
              "    <tr>\n",
              "      <th>0</th>\n",
              "      <td>3</td>\n",
              "      <td>2</td>\n",
              "      <td>23</td>\n",
              "      <td>15</td>\n",
              "      <td>0</td>\n",
              "      <td>0</td>\n",
              "      <td>0</td>\n",
              "      <td>0</td>\n",
              "      <td>0</td>\n",
              "      <td>2012</td>\n",
              "      <td>12</td>\n",
              "    </tr>\n",
              "    <tr>\n",
              "      <th>1</th>\n",
              "      <td>6</td>\n",
              "      <td>1</td>\n",
              "      <td>24</td>\n",
              "      <td>13</td>\n",
              "      <td>0</td>\n",
              "      <td>0</td>\n",
              "      <td>0</td>\n",
              "      <td>0</td>\n",
              "      <td>0</td>\n",
              "      <td>2012</td>\n",
              "      <td>12</td>\n",
              "    </tr>\n",
              "    <tr>\n",
              "      <th>2</th>\n",
              "      <td>1</td>\n",
              "      <td>19</td>\n",
              "      <td>23</td>\n",
              "      <td>3</td>\n",
              "      <td>0</td>\n",
              "      <td>1</td>\n",
              "      <td>0</td>\n",
              "      <td>1</td>\n",
              "      <td>0</td>\n",
              "      <td>2013</td>\n",
              "      <td>3</td>\n",
              "    </tr>\n",
              "    <tr>\n",
              "      <th>3</th>\n",
              "      <td>4</td>\n",
              "      <td>16</td>\n",
              "      <td>28</td>\n",
              "      <td>40</td>\n",
              "      <td>0</td>\n",
              "      <td>0</td>\n",
              "      <td>1</td>\n",
              "      <td>0</td>\n",
              "      <td>0</td>\n",
              "      <td>2013</td>\n",
              "      <td>7</td>\n",
              "    </tr>\n",
              "    <tr>\n",
              "      <th>4</th>\n",
              "      <td>1</td>\n",
              "      <td>18</td>\n",
              "      <td>31</td>\n",
              "      <td>32</td>\n",
              "      <td>0</td>\n",
              "      <td>0</td>\n",
              "      <td>1</td>\n",
              "      <td>1</td>\n",
              "      <td>0</td>\n",
              "      <td>2013</td>\n",
              "      <td>2</td>\n",
              "    </tr>\n",
              "  </tbody>\n",
              "</table>\n",
              "</div>"
            ],
            "text/plain": [
              "   dayofweek  hour  age  ...  enroll_Diff  first_open_year  first_open_month\n",
              "0          3     2   23  ...            0             2012                12\n",
              "1          6     1   24  ...            0             2012                12\n",
              "2          1    19   23  ...            0             2013                 3\n",
              "3          4    16   28  ...            0             2013                 7\n",
              "4          1    18   31  ...            0             2013                 2\n",
              "\n",
              "[5 rows x 11 columns]"
            ]
          },
          "metadata": {
            "tags": []
          },
          "execution_count": 51
        }
      ]
    },
    {
      "cell_type": "code",
      "metadata": {
        "id": "SC9eaUk1Iwe3"
      },
      "source": [
        "# Splitting the Dataset into independent and dependent variables\n",
        "X = data.iloc[:,[0,1,2,3,4,5,7,8,9,10]].values\n",
        "y = data.iloc[:,6].values"
      ],
      "execution_count": 53,
      "outputs": []
    },
    {
      "cell_type": "code",
      "metadata": {
        "id": "QS-MFuCfNSfI"
      },
      "source": [
        "# Splitting the dataset into the Training set and Test set\n",
        "from sklearn.model_selection import train_test_split\n",
        "X_train, X_test, y_train, y_test = train_test_split(X, y, test_size = 0.25)"
      ],
      "execution_count": 54,
      "outputs": []
    },
    {
      "cell_type": "code",
      "metadata": {
        "id": "9PawbeihOK85"
      },
      "source": [
        "# Feature Scaling\n",
        "from sklearn.preprocessing import StandardScaler\n",
        "sc = StandardScaler()\n",
        "X_train = sc.fit_transform(X_train)\n",
        "X_test = sc.transform(X_test)"
      ],
      "execution_count": 55,
      "outputs": []
    },
    {
      "cell_type": "code",
      "metadata": {
        "id": "QQ-hwc0MPF64",
        "outputId": "390aa3bc-81b3-4f9b-bc62-1e3e86888907",
        "colab": {
          "base_uri": "https://localhost:8080/"
        }
      },
      "source": [
        "# Model building\n",
        "from sklearn.linear_model import LogisticRegression\n",
        "clf = LogisticRegression()\n",
        "clf.fit(X_train,y_train)"
      ],
      "execution_count": 56,
      "outputs": [
        {
          "output_type": "execute_result",
          "data": {
            "text/plain": [
              "LogisticRegression(C=1.0, class_weight=None, dual=False, fit_intercept=True,\n",
              "                   intercept_scaling=1, l1_ratio=None, max_iter=100,\n",
              "                   multi_class='auto', n_jobs=None, penalty='l2',\n",
              "                   random_state=None, solver='lbfgs', tol=0.0001, verbose=0,\n",
              "                   warm_start=False)"
            ]
          },
          "metadata": {
            "tags": []
          },
          "execution_count": 56
        }
      ]
    },
    {
      "cell_type": "code",
      "metadata": {
        "id": "o4b85eoDRGo5"
      },
      "source": [
        "# Predicting the Test set results\n",
        "y_pred = clf.predict(X_test)"
      ],
      "execution_count": 57,
      "outputs": []
    },
    {
      "cell_type": "code",
      "metadata": {
        "id": "CT73VXs5RSSN",
        "outputId": "d4501140-c1ac-4097-a740-af1409bf667b",
        "colab": {
          "base_uri": "https://localhost:8080/"
        }
      },
      "source": [
        "# Making the Confusion Matrix\n",
        "from sklearn.metrics import confusion_matrix\n",
        "cm = confusion_matrix(y_test, y_pred)\n",
        "cm"
      ],
      "execution_count": 58,
      "outputs": [
        {
          "output_type": "execute_result",
          "data": {
            "text/plain": [
              "array([[2493, 2147],\n",
              "       [1155, 6705]])"
            ]
          },
          "metadata": {
            "tags": []
          },
          "execution_count": 58
        }
      ]
    },
    {
      "cell_type": "code",
      "metadata": {
        "id": "RmeMPUoMRpCC",
        "outputId": "03f0fcc8-3ca4-4c87-c3c8-e365d95584a3",
        "colab": {
          "base_uri": "https://localhost:8080/",
          "height": 272
        }
      },
      "source": [
        "sns.heatmap(cm,annot=True, cmap = \"crest\")"
      ],
      "execution_count": 62,
      "outputs": [
        {
          "output_type": "execute_result",
          "data": {
            "text/plain": [
              "<matplotlib.axes._subplots.AxesSubplot at 0x7f13123f5860>"
            ]
          },
          "metadata": {
            "tags": []
          },
          "execution_count": 62
        },
        {
          "output_type": "display_data",
          "data": {
            "image/png": "[encoded data removed]",
            "text/plain": [
              "<Figure size 1728x288 with 2 Axes>"
            ]
          },
          "metadata": {
            "tags": []
          }
        }
      ]
    },
    {
      "cell_type": "code",
      "metadata": {
        "id": "3CYaVZINRWTI",
        "outputId": "a10fe3b9-7e7f-4074-eb71-5b3d9cd06500",
        "colab": {
          "base_uri": "https://localhost:8080/"
        }
      },
      "source": [
        "from sklearn.metrics import classification_report\n",
        "cr = classification_report(y_test,y_pred)\n",
        "print(cr)"
      ],
      "execution_count": 60,
      "outputs": [
        {
          "output_type": "stream",
          "text": [
            "              precision    recall  f1-score   support\n",
            "\n",
            "           0       0.68      0.54      0.60      4640\n",
            "           1       0.76      0.85      0.80      7860\n",
            "\n",
            "    accuracy                           0.74     12500\n",
            "   macro avg       0.72      0.70      0.70     12500\n",
            "weighted avg       0.73      0.74      0.73     12500\n",
            "\n"
          ],
          "name": "stdout"
        }
      ]
    },
    {
      "cell_type": "code",
      "metadata": {
        "id": "VIFPYatFSK1J"
      },
      "source": [
        "from sklearn.model_selection import cross_val_score\n",
        "scores = cross_val_score(clf, X_train,y_train,\n",
        "                         scoring = \"f1\",cv=10)\n",
        "#A low training error but high cross validation error means its overfit.\n",
        "# A high training error but low cross validation error means its underfit."
      ],
      "execution_count": 73,
      "outputs": []
    },
    {
      "cell_type": "code",
      "metadata": {
        "id": "r2ihGVz1Vp4w",
        "outputId": "6b6a9ff4-1ba8-43ff-d0c3-ad0af8cc2e41",
        "colab": {
          "base_uri": "https://localhost:8080/"
        }
      },
      "source": [
        "scores"
      ],
      "execution_count": 74,
      "outputs": [
        {
          "output_type": "execute_result",
          "data": {
            "text/plain": [
              "array([0.79306172, 0.79765987, 0.79838384, 0.8108656 , 0.80064244,\n",
              "       0.79263605, 0.7990226 , 0.79116466, 0.80279441, 0.79448164])"
            ]
          },
          "metadata": {
            "tags": []
          },
          "execution_count": 74
        }
      ]
    },
    {
      "cell_type": "code",
      "metadata": {
        "id": "Fzp0-swjWsqA",
        "outputId": "11d2b337-6f42-4ac8-8347-5b63799c4303",
        "colab": {
          "base_uri": "https://localhost:8080/"
        }
      },
      "source": [
        "print(\"Accuracy: %0.2f (+/- %0.2f)\" % (scores.mean(), scores.std() * 2))\n",
        "#slightly underfitting"
      ],
      "execution_count": 75,
      "outputs": [
        {
          "output_type": "stream",
          "text": [
            "Accuracy: 0.80 (+/- 0.01)\n"
          ],
          "name": "stdout"
        }
      ]
    },
    {
      "cell_type": "code",
      "metadata": {
        "id": "FzYWDPk1ZqHo",
        "outputId": "b68e46af-cfc0-4e8c-a9cd-5904f474f40d",
        "colab": {
          "base_uri": "https://localhost:8080/"
        }
      },
      "source": [
        "from sklearn.tree import DecisionTreeClassifier\n",
        "clf3 = DecisionTreeClassifier()\n",
        "clf3.fit(X_train, y_train)"
      ],
      "execution_count": 81,
      "outputs": [
        {
          "output_type": "execute_result",
          "data": {
            "text/plain": [
              "DecisionTreeClassifier(ccp_alpha=0.0, class_weight=None, criterion='gini',\n",
              "                       max_depth=None, max_features=None, max_leaf_nodes=None,\n",
              "                       min_impurity_decrease=0.0, min_impurity_split=None,\n",
              "                       min_samples_leaf=1, min_samples_split=2,\n",
              "                       min_weight_fraction_leaf=0.0, presort='deprecated',\n",
              "                       random_state=None, splitter='best')"
            ]
          },
          "metadata": {
            "tags": []
          },
          "execution_count": 81
        }
      ]
    },
    {
      "cell_type": "code",
      "metadata": {
        "id": "XIi912J8aAqz"
      },
      "source": [
        "y_pred = clf3.predict(X_test)"
      ],
      "execution_count": 82,
      "outputs": []
    },
    {
      "cell_type": "code",
      "metadata": {
        "id": "n1jDLcX-aLgE",
        "outputId": "f6d2d472-90de-43be-c34c-d79a17bc4186",
        "colab": {
          "base_uri": "https://localhost:8080/"
        }
      },
      "source": [
        "cr3 = classification_report(y_test,y_pred)\n",
        "print(cr3)"
      ],
      "execution_count": 83,
      "outputs": [
        {
          "output_type": "stream",
          "text": [
            "              precision    recall  f1-score   support\n",
            "\n",
            "           0       0.56      0.58      0.57      4640\n",
            "           1       0.75      0.73      0.74      7860\n",
            "\n",
            "    accuracy                           0.68     12500\n",
            "   macro avg       0.65      0.66      0.66     12500\n",
            "weighted avg       0.68      0.68      0.68     12500\n",
            "\n"
          ],
          "name": "stdout"
        }
      ]
    },
    {
      "cell_type": "code",
      "metadata": {
        "id": "mN6kzeWEaPEj",
        "outputId": "06da0ace-f190-4dad-ed60-705df2b376d2",
        "colab": {
          "base_uri": "https://localhost:8080/"
        }
      },
      "source": [
        "scores = cross_val_score(clf3, X_train,y_train,\n",
        "                         scoring = \"f1\",cv=10)\n",
        "print(\"Accuracy: %0.2f (+/- %0.2f)\" % (scores.mean(), scores.std() * 2))\n",
        "#slightly underfitting"
      ],
      "execution_count": 84,
      "outputs": [
        {
          "output_type": "stream",
          "text": [
            "Accuracy: 0.73 (+/- 0.01)\n"
          ],
          "name": "stdout"
        }
      ]
    },
    {
      "cell_type": "code",
      "metadata": {
        "id": "1GgcyqfTbBAH"
      },
      "source": [
        "# Let's go with logistic regression as its accuracy is higher than Decision tree classifier"
      ],
      "execution_count": null,
      "outputs": []
    },
    {
      "cell_type": "markdown",
      "metadata": {
        "id": "pAbXQsfIcWqy"
      },
      "source": [
        "#### MODEL TUNING"
      ]
    },
    {
      "cell_type": "code",
      "metadata": {
        "id": "gNo9eoaGcYu2"
      },
      "source": [
        "from sklearn.model_selection import GridSearchCV\n",
        "penalty = ['l1', 'l2']\n",
        "C = [0.001, 0.01, 0.1, 1, 10, 100, 1000]\n",
        "parameters = dict(C=C, penalty=penalty)\n",
        "\n",
        "grid_search = GridSearchCV(estimator = clf,param_grid = parameters,scoring = \"accuracy\",cv = 10,n_jobs = -1)"
      ],
      "execution_count": 87,
      "outputs": []
    },
    {
      "cell_type": "code",
      "metadata": {
        "id": "CkoXFSo9c3kM",
        "outputId": "01cae183-2357-4d2b-fec2-d83c6d1eef03",
        "colab": {
          "base_uri": "https://localhost:8080/"
        }
      },
      "source": [
        "grid_search = grid_search.fit(X_train, y_train)\n",
        "grid_search"
      ],
      "execution_count": 89,
      "outputs": [
        {
          "output_type": "execute_result",
          "data": {
            "text/plain": [
              "GridSearchCV(cv=10, error_score=nan,\n",
              "             estimator=LogisticRegression(C=1.0, class_weight=None, dual=False,\n",
              "                                          fit_intercept=True,\n",
              "                                          intercept_scaling=1, l1_ratio=None,\n",
              "                                          max_iter=100, multi_class='auto',\n",
              "                                          n_jobs=None, penalty='l2',\n",
              "                                          random_state=None, solver='lbfgs',\n",
              "                                          tol=0.0001, verbose=0,\n",
              "                                          warm_start=False),\n",
              "             iid='deprecated', n_jobs=-1,\n",
              "             param_grid={'C': [0.001, 0.01, 0.1, 1, 10, 100, 1000],\n",
              "                         'penalty': ['l1', 'l2']},\n",
              "             pre_dispatch='2*n_jobs', refit=True, return_train_score=False,\n",
              "             scoring='accuracy', verbose=0)"
            ]
          },
          "metadata": {
            "tags": []
          },
          "execution_count": 89
        }
      ]
    },
    {
      "cell_type": "code",
      "metadata": {
        "id": "1Z3Va8GEdk4s",
        "outputId": "0a899add-87c7-4338-b515-8b0b022c80ff",
        "colab": {
          "base_uri": "https://localhost:8080/"
        }
      },
      "source": [
        "print(grid_search.best_score_)\n",
        "print(grid_search.best_params_)"
      ],
      "execution_count": 90,
      "outputs": [
        {
          "output_type": "stream",
          "text": [
            "0.73704\n",
            "{'C': 10, 'penalty': 'l2'}\n"
          ],
          "name": "stdout"
        }
      ]
    },
    {
      "cell_type": "code",
      "metadata": {
        "id": "msQ8Lb27eAgc",
        "outputId": "5af33a28-06c9-43e5-e244-f8f8104f9cee",
        "colab": {
          "base_uri": "https://localhost:8080/"
        }
      },
      "source": [
        "final_model = grid_search.best_estimator_\n",
        "final_predictions = final_model.predict(X_test)\n",
        "final_predictions"
      ],
      "execution_count": 91,
      "outputs": [
        {
          "output_type": "execute_result",
          "data": {
            "text/plain": [
              "array([1, 1, 1, ..., 1, 1, 1])"
            ]
          },
          "metadata": {
            "tags": []
          },
          "execution_count": 91
        }
      ]
    },
    {
      "cell_type": "code",
      "metadata": {
        "id": "4d89hEFfeZ2m",
        "outputId": "03dfda6f-a2b5-4794-8956-1a47d31ac776",
        "colab": {
          "base_uri": "https://localhost:8080/"
        }
      },
      "source": [
        "cr4 = classification_report(y_test,final_predictions)\n",
        "print(cr4)"
      ],
      "execution_count": 93,
      "outputs": [
        {
          "output_type": "stream",
          "text": [
            "              precision    recall  f1-score   support\n",
            "\n",
            "           0       0.67      0.57      0.61      4640\n",
            "           1       0.77      0.84      0.80      7860\n",
            "\n",
            "    accuracy                           0.74     12500\n",
            "   macro avg       0.72      0.70      0.71     12500\n",
            "weighted avg       0.73      0.74      0.73     12500\n",
            "\n"
          ],
          "name": "stdout"
        }
      ]
    }
  ]
}